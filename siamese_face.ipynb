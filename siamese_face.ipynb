{
  "nbformat": 4,
  "nbformat_minor": 0,
  "metadata": {
    "colab": {
      "name": "siamese_face.ipynb",
      "version": "0.3.2",
      "provenance": [],
      "collapsed_sections": [],
      "include_colab_link": true
    },
    "kernelspec": {
      "name": "python3",
      "display_name": "Python 3"
    },
    "accelerator": "GPU"
  },
  "cells": [
    {
      "cell_type": "markdown",
      "metadata": {
        "id": "view-in-github",
        "colab_type": "text"
      },
      "source": [
        "<a href=\"https://colab.research.google.com/github/jaydeepthik/Siamese-face-verification/blob/master/siamese_face.ipynb\" target=\"_parent\"><img src=\"https://colab.research.google.com/assets/colab-badge.svg\" alt=\"Open In Colab\"/></a>"
      ]
    },
    {
      "cell_type": "code",
      "metadata": {
        "id": "7X6bxwVFkkhm",
        "colab_type": "code",
        "colab": {}
      },
      "source": [
        "from google.colab import drive\n",
        "drive.mount('/content/drive')\n"
      ],
      "execution_count": 0,
      "outputs": []
    },
    {
      "cell_type": "code",
      "metadata": {
        "id": "ywCjrpRWk063",
        "colab_type": "code",
        "outputId": "f2b5e209-35cf-44e1-d233-5c0c799ae164",
        "colab": {
          "base_uri": "https://localhost:8080/",
          "height": 34
        }
      },
      "source": [
        "from PIL import Image\n",
        "import numpy as np\n",
        "import matplotlib.pyplot as plt\n",
        "import keras\n",
        "from keras.models import Model, Sequential\n",
        "from keras import layers\n",
        "from keras import optimizers\n",
        "import keras.backend as K\n",
        "from keras.preprocessing.image import img_to_array\n",
        "from sklearn.model_selection import train_test_split"
      ],
      "execution_count": 2,
      "outputs": [
        {
          "output_type": "stream",
          "text": [
            "Using TensorFlow backend.\n"
          ],
          "name": "stderr"
        }
      ]
    },
    {
      "cell_type": "code",
      "metadata": {
        "id": "Mpmdu8qXmki4",
        "colab_type": "code",
        "colab": {}
      },
      "source": [
        "data_path = \"/content/drive/My Drive/Colab Notebooks/lfw_dataset/orl_faces\"\n"
      ],
      "execution_count": 0,
      "outputs": []
    },
    {
      "cell_type": "code",
      "metadata": {
        "id": "YwOcC2_lFoBp",
        "colab_type": "code",
        "outputId": "3ffa43f7-1fb7-49f3-a1f9-fcd43963dead",
        "colab": {
          "base_uri": "https://localhost:8080/",
          "height": 51
        }
      },
      "source": [
        "img = Image.open(data_path+\"/s1/1.pgm\")\n",
        "img1 = img.convert('L')\n",
        "img1 = img_to_array(img1)\n",
        "img2 = img_to_array(img)\n",
        "#img = img.reshape((112,92))\n",
        "#print(img.shape)\n",
        "#plt.imshow(img1[:,:,0], cmap='gray')\n",
        "#print(img1[0][0])\n",
        "print((img1-img2).sum())\n",
        "print(img1.dtype)"
      ],
      "execution_count": 4,
      "outputs": [
        {
          "output_type": "stream",
          "text": [
            "0.0\n",
            "float32\n"
          ],
          "name": "stdout"
        }
      ]
    },
    {
      "cell_type": "code",
      "metadata": {
        "id": "55YSgQFznPY_",
        "colab_type": "code",
        "colab": {}
      },
      "source": [
        "size = 2\n",
        "n_samples = 20000\n",
        "def process_data(size, n_samples):\n",
        "  \n",
        "  img = img_to_array(Image.open(data_path+\"/s1/1.pgm\"))\n",
        "  img = img[::size,::size]\n",
        "  \n",
        "  h_dim = img.shape[0]\n",
        "  w_dim = img.shape[1]\n",
        "  \n",
        "  count = 0\n",
        "  \n",
        "  X_a_p = np.zeros((n_samples,2,h_dim, w_dim, 1))\n",
        "  y_a_p = np.ones((n_samples, 1))\n",
        "  \n",
        "  for i in range(40):\n",
        "    print(i, sep='')\n",
        "    for j in range(int(n_samples/40)):\n",
        "      index1 = 0\n",
        "      index2 = 0\n",
        "      \n",
        "      while index1 == index2:\n",
        "        index1 = np.random.randint(10)\n",
        "        index2 = np.random.randint(10)\n",
        "        \n",
        "      X_a = img_to_array(Image.open(data_path+\"/s\"+str(i+1)+\"/\"+str(index1+1)+\".pgm\"))\n",
        "      #X_a = X_a[:,:,0]\n",
        "      X_a =X_a[::size, ::size ]\n",
        "      \n",
        "      X_p = img_to_array(Image.open(data_path+\"/s\"+str(i+1)+\"/\"+str(index2+1)+\".pgm\"))\n",
        "      #X_p = X_p[:,:,0]\n",
        "      X_p =X_p[::size, ::size]\n",
        "      \n",
        "      X_a_p[count,0,:,:] = X_a\n",
        "      X_a_p[count,1,:,:] = X_p\n",
        "      \n",
        "      count+=1\n",
        "  \n",
        "  count = 0\n",
        "  \n",
        "  X_a_n = np.zeros((n_samples,2,h_dim, w_dim, 1))\n",
        "  y_a_n = np.zeros((n_samples, 1))\n",
        "    \n",
        "  \n",
        "  for i in range(int(n_samples/10)):\n",
        "        for j in range(10):\n",
        "            \n",
        "            #read images from different directory (imposite pair)\n",
        "            while True:\n",
        "                ind1 = np.random.randint(40)\n",
        "                ind2 = np.random.randint(40)\n",
        "                if ind1 != ind2:\n",
        "                    break\n",
        "                    \n",
        "            img1 = img_to_array(Image.open(data_path+'/s' + str(ind1+1) + '/' + str(j + 1) + '.pgm'))\n",
        "            img2 = img_to_array(Image.open(data_path+'/s' + str(ind2+1) + '/' + str(j + 1) + '.pgm'))\n",
        "\n",
        "            img1 = img1[::size, ::size]\n",
        "            img2 = img2[::size, ::size]\n",
        "\n",
        "            X_a_n[count, 0, :, :] = img1\n",
        "            X_a_n[count, 1, :, :] = img2\n",
        "            #as we are drawing images from the different directory we assign label as 0. (imposite pair)\n",
        "            y_a_n[count] = 0\n",
        "            count += 1\n",
        "  \n",
        "  X = np.concatenate([X_a_p, X_a_n], axis=0)/255\n",
        "  y = np.concatenate([y_a_p, y_a_n], axis=0)\n",
        "  return X, y\n",
        "  "
      ],
      "execution_count": 0,
      "outputs": []
    },
    {
      "cell_type": "code",
      "metadata": {
        "id": "agr6tI574w2i",
        "colab_type": "code",
        "colab": {}
      },
      "source": [
        "X, y = process_data(size, n_samples)"
      ],
      "execution_count": 0,
      "outputs": []
    },
    {
      "cell_type": "code",
      "metadata": {
        "id": "DOmnuzTv43bq",
        "colab_type": "code",
        "colab": {}
      },
      "source": [
        "X_train, X_test, y_train,y_test = train_test_split(X, y, test_size=0.25,shuffle=True)\n",
        "#X_train = X_train.reshape((X_train.shape[0],X_train.shape[1], X_train.shape[2], X_train.shape[3], 1))"
      ],
      "execution_count": 0,
      "outputs": []
    },
    {
      "cell_type": "code",
      "metadata": {
        "id": "bB_x_Zdxils6",
        "colab_type": "code",
        "colab": {
          "base_uri": "https://localhost:8080/",
          "height": 34
        },
        "outputId": "935ed24f-f8bc-4dd3-deae-a0b0d3c30c58"
      },
      "source": [
        "(y_test==0.).sum() + (y_train==0.).sum()"
      ],
      "execution_count": 8,
      "outputs": [
        {
          "output_type": "execute_result",
          "data": {
            "text/plain": [
              "20000"
            ]
          },
          "metadata": {
            "tags": []
          },
          "execution_count": 8
        }
      ]
    },
    {
      "cell_type": "code",
      "metadata": {
        "id": "lGSR8AxMdYp0",
        "colab_type": "code",
        "outputId": "c90890f0-630d-4003-d639-26c324362667",
        "colab": {
          "base_uri": "https://localhost:8080/",
          "height": 1195
        }
      },
      "source": [
        "id=5004\n",
        "plt.imshow(X_train[id,0,:,:,0])\n",
        "plt.show()\n",
        "plt.imshow(X_train[id,1,:,:,0])\n",
        "plt.show()\n",
        "plt.imshow(X_train[id+1,0,:,:,0])\n",
        "plt.show()\n",
        "plt.imshow(X_train[id+1,1,:,:,0])\n",
        "plt.show()\n",
        "#print(X_train[0])\n",
        "y_train[id:id+10]"
      ],
      "execution_count": 9,
      "outputs": [
        {
          "output_type": "display_data",
          "data": {
            "image/png": "[encoded data removed]",
            "text/plain": [
              "<Figure size 432x288 with 1 Axes>"
            ]
          },
          "metadata": {
            "tags": []
          }
        },
        {
          "output_type": "display_data",
          "data": {
            "image/png": "[encoded data removed]",
            "text/plain": [
              "<Figure size 432x288 with 1 Axes>"
            ]
          },
          "metadata": {
            "tags": []
          }
        },
        {
          "output_type": "display_data",
          "data": {
            "image/png": "[encoded data removed]",
            "text/plain": [
              "<Figure size 432x288 with 1 Axes>"
            ]
          },
          "metadata": {
            "tags": []
          }
        },
        {
          "output_type": "display_data",
          "data": {
            "image/png": "[encoded data removed]",
            "text/plain": [
              "<Figure size 432x288 with 1 Axes>"
            ]
          },
          "metadata": {
            "tags": []
          }
        },
        {
          "output_type": "execute_result",
          "data": {
            "text/plain": [
              "array([[1.],\n",
              "       [0.],\n",
              "       [0.],\n",
              "       [0.],\n",
              "       [1.],\n",
              "       [1.],\n",
              "       [1.],\n",
              "       [1.],\n",
              "       [0.],\n",
              "       [0.]])"
            ]
          },
          "metadata": {
            "tags": []
          },
          "execution_count": 9
        }
      ]
    },
    {
      "cell_type": "code",
      "metadata": {
        "id": "IvmYWuSXAZ1D",
        "colab_type": "code",
        "outputId": "bb0219d1-2f1d-4cb2-a85f-d9866ea15073",
        "colab": {
          "base_uri": "https://localhost:8080/",
          "height": 34
        }
      },
      "source": [
        "print(X.shape, y.shape)"
      ],
      "execution_count": 10,
      "outputs": [
        {
          "output_type": "stream",
          "text": [
            "(40000, 2, 56, 46, 1) (40000, 1)\n"
          ],
          "name": "stdout"
        }
      ]
    },
    {
      "cell_type": "code",
      "metadata": {
        "id": "pxKo7UQx8TNL",
        "colab_type": "code",
        "colab": {}
      },
      "source": [
        "def base_model(input_shape):\n",
        "  \n",
        "  model = Sequential()\n",
        "  model.add(layers.Conv2D(32, 3, input_shape=input_shape, padding='same'))\n",
        "  model.add(layers.BatchNormalization())\n",
        "  model.add(layers.Activation('relu'))\n",
        "  model.add(layers.MaxPool2D())\n",
        "  \n",
        "  model.add(layers.Conv2D(64, 3))\n",
        "  model.add(layers.Activation('relu'))\n",
        "  model.add(layers.BatchNormalization())\n",
        "  model.add(layers.MaxPool2D())\n",
        "  \n",
        "  model.add(layers.Conv2D(128, 3))\n",
        "  model.add(layers.Activation('relu'))\n",
        "  model.add(layers.BatchNormalization())\n",
        "  model.add(layers.MaxPool2D())\n",
        "  \n",
        "  model.add(layers.Flatten())\n",
        "  model.add(layers.Dense(256))\n",
        "  model.add(layers.Dropout(0.25))\n",
        "  model.add(layers.Dense(128))\n",
        "  \n",
        "  \n",
        "  \n",
        "  return model"
      ],
      "execution_count": 0,
      "outputs": []
    },
    {
      "cell_type": "code",
      "metadata": {
        "id": "SFooz7qv8qIr",
        "colab_type": "code",
        "outputId": "4c2a423e-aab4-4322-f10e-df79100ad732",
        "colab": {
          "base_uri": "https://localhost:8080/",
          "height": 34
        }
      },
      "source": [
        "input_shape = X_train.shape[2:]\n",
        "print(input_shape)\n",
        "image_a = layers.Input(shape = input_shape)\n",
        "image_b = layers.Input(shape = input_shape)\n",
        "\n",
        "base_net = base_model(input_shape)\n",
        "emb_a = base_net(image_a)\n",
        "emb_b = base_net(image_b)"
      ],
      "execution_count": 31,
      "outputs": [
        {
          "output_type": "stream",
          "text": [
            "(56, 46, 1)\n"
          ],
          "name": "stdout"
        }
      ]
    },
    {
      "cell_type": "code",
      "metadata": {
        "id": "8Pgz11gp_xJj",
        "colab_type": "code",
        "colab": {}
      },
      "source": [
        "def euc_distance(vectors):\n",
        "  v_a, v_y = vectors\n",
        "  return K.sqrt(K.sum(K.square(v_a - v_y), axis=1, keepdims=True))\n",
        "\n",
        "def euc_op_shape(shapes):\n",
        "  shape1, shape2 = shapes\n",
        "  return (shape1[0], 1)\n",
        "\n",
        "\n",
        "distance = layers.Lambda(euc_distance, output_shape=euc_op_shape)([emb_a, emb_b])"
      ],
      "execution_count": 0,
      "outputs": []
    },
    {
      "cell_type": "code",
      "metadata": {
        "id": "ORcIJQLJDG87",
        "colab_type": "code",
        "colab": {}
      },
      "source": [
        "model = Model([image_a, image_b], distance)"
      ],
      "execution_count": 0,
      "outputs": []
    },
    {
      "cell_type": "code",
      "metadata": {
        "id": "n_ntMH89K0Y9",
        "colab_type": "code",
        "outputId": "86417a11-05df-4533-c360-3cdccb05fbae",
        "colab": {
          "base_uri": "https://localhost:8080/",
          "height": 306
        }
      },
      "source": [
        "def loss_contrastive(y_true, y_pred):\n",
        "  alpha = 1\n",
        "  return K.mean(y_true*K.square(y_pred) + (1 - y_true) * K.square(K.maximum(alpha - y_pred, 0)))\n",
        "\n",
        "model.compile(optimizer=optimizers.Adam(0.001), loss = loss_contrastive)\n",
        "model.summary()\n"
      ],
      "execution_count": 35,
      "outputs": [
        {
          "output_type": "stream",
          "text": [
            "__________________________________________________________________________________________________\n",
            "Layer (type)                    Output Shape         Param #     Connected to                     \n",
            "==================================================================================================\n",
            "input_1 (InputLayer)            (None, 56, 46, 1)    0                                            \n",
            "__________________________________________________________________________________________________\n",
            "input_2 (InputLayer)            (None, 56, 46, 1)    0                                            \n",
            "__________________________________________________________________________________________________\n",
            "sequential_1 (Sequential)       (None, 128)          782080      input_1[0][0]                    \n",
            "                                                                 input_2[0][0]                    \n",
            "__________________________________________________________________________________________________\n",
            "lambda_1 (Lambda)               (None, 1)            0           sequential_1[1][0]               \n",
            "                                                                 sequential_1[2][0]               \n",
            "==================================================================================================\n",
            "Total params: 782,080\n",
            "Trainable params: 781,632\n",
            "Non-trainable params: 448\n",
            "__________________________________________________________________________________________________\n"
          ],
          "name": "stdout"
        }
      ]
    },
    {
      "cell_type": "code",
      "metadata": {
        "id": "_fQVaTxvTvSi",
        "colab_type": "code",
        "outputId": "0794d09d-6aab-4652-a355-f73ac993b1de",
        "colab": {
          "base_uri": "https://localhost:8080/",
          "height": 1071
        }
      },
      "source": [
        "inp_1 = X_train[:,0]\n",
        "inp_2 = X_train[:,1]\n",
        "model.fit([inp_1, inp_2], y_train,validation_split=0.2, batch_size=128, epochs=30)\n",
        "\n",
        "#inp_1.shape"
      ],
      "execution_count": 37,
      "outputs": [
        {
          "output_type": "stream",
          "text": [
            "Train on 24000 samples, validate on 6000 samples\n",
            "Epoch 1/30\n",
            "24000/24000 [==============================] - 7s 285us/step - loss: 0.0206 - val_loss: 0.0084\n",
            "Epoch 2/30\n",
            "24000/24000 [==============================] - 7s 280us/step - loss: 0.0197 - val_loss: 0.0091\n",
            "Epoch 3/30\n",
            "24000/24000 [==============================] - 7s 279us/step - loss: 0.0196 - val_loss: 0.0077\n",
            "Epoch 4/30\n",
            "24000/24000 [==============================] - 7s 281us/step - loss: 0.0200 - val_loss: 0.0077\n",
            "Epoch 5/30\n",
            "24000/24000 [==============================] - 7s 283us/step - loss: 0.0194 - val_loss: 0.0081\n",
            "Epoch 6/30\n",
            "24000/24000 [==============================] - 7s 282us/step - loss: 0.0199 - val_loss: 0.0079\n",
            "Epoch 7/30\n",
            "24000/24000 [==============================] - 7s 286us/step - loss: 0.0195 - val_loss: 0.0096\n",
            "Epoch 8/30\n",
            "24000/24000 [==============================] - 7s 287us/step - loss: 0.0190 - val_loss: 0.0071\n",
            "Epoch 9/30\n",
            "24000/24000 [==============================] - 7s 280us/step - loss: 0.0181 - val_loss: 0.0061\n",
            "Epoch 10/30\n",
            "24000/24000 [==============================] - 7s 277us/step - loss: 0.0167 - val_loss: 0.0057\n",
            "Epoch 11/30\n",
            "24000/24000 [==============================] - 7s 278us/step - loss: 0.0164 - val_loss: 0.0068\n",
            "Epoch 12/30\n",
            "24000/24000 [==============================] - 7s 278us/step - loss: 0.0161 - val_loss: 0.0054\n",
            "Epoch 13/30\n",
            "24000/24000 [==============================] - 7s 277us/step - loss: 0.0159 - val_loss: 0.0071\n",
            "Epoch 14/30\n",
            "24000/24000 [==============================] - 7s 278us/step - loss: 0.0194 - val_loss: 0.0047\n",
            "Epoch 15/30\n",
            "24000/24000 [==============================] - 7s 277us/step - loss: 0.0192 - val_loss: 0.0069\n",
            "Epoch 16/30\n",
            "24000/24000 [==============================] - 7s 278us/step - loss: 0.0201 - val_loss: 0.0071\n",
            "Epoch 17/30\n",
            "24000/24000 [==============================] - 7s 278us/step - loss: 0.0237 - val_loss: 0.0119\n",
            "Epoch 18/30\n",
            "24000/24000 [==============================] - 7s 278us/step - loss: 0.0247 - val_loss: 0.0093\n",
            "Epoch 19/30\n",
            "24000/24000 [==============================] - 7s 279us/step - loss: 0.0228 - val_loss: 0.0081\n",
            "Epoch 20/30\n",
            "24000/24000 [==============================] - 7s 285us/step - loss: 0.0232 - val_loss: 0.0089\n",
            "Epoch 21/30\n",
            "24000/24000 [==============================] - 7s 280us/step - loss: 0.0217 - val_loss: 0.0089\n",
            "Epoch 22/30\n",
            "24000/24000 [==============================] - 7s 277us/step - loss: 0.0204 - val_loss: 0.0086\n",
            "Epoch 23/30\n",
            "24000/24000 [==============================] - 7s 278us/step - loss: 0.0209 - val_loss: 0.0073\n",
            "Epoch 24/30\n",
            "24000/24000 [==============================] - 7s 277us/step - loss: 0.0211 - val_loss: 0.0087\n",
            "Epoch 25/30\n",
            "24000/24000 [==============================] - 7s 278us/step - loss: 0.0196 - val_loss: 0.0063\n",
            "Epoch 26/30\n",
            "24000/24000 [==============================] - 7s 278us/step - loss: 0.0206 - val_loss: 0.0076\n",
            "Epoch 27/30\n",
            "24000/24000 [==============================] - 7s 278us/step - loss: 0.0214 - val_loss: 0.0104\n",
            "Epoch 28/30\n",
            "24000/24000 [==============================] - 7s 278us/step - loss: 0.0185 - val_loss: 0.0070\n",
            "Epoch 29/30\n",
            "24000/24000 [==============================] - 7s 278us/step - loss: 0.0171 - val_loss: 0.0055\n",
            "Epoch 30/30\n",
            "24000/24000 [==============================] - 7s 278us/step - loss: 0.0170 - val_loss: 0.0051\n"
          ],
          "name": "stdout"
        },
        {
          "output_type": "execute_result",
          "data": {
            "text/plain": [
              "<keras.callbacks.History at 0x7f3a77736a90>"
            ]
          },
          "metadata": {
            "tags": []
          },
          "execution_count": 37
        }
      ]
    },
    {
      "cell_type": "code",
      "metadata": {
        "id": "K3ruTx8iUHBT",
        "colab_type": "code",
        "outputId": "8e382f83-ee4b-405f-a12c-ab3070a3d452",
        "colab": {
          "base_uri": "https://localhost:8080/",
          "height": 271
        }
      },
      "source": [
        "index = 2550\n",
        "tr_value = 0.7\n",
        "pred = model.predict([np.expand_dims(X_test[index,0], axis=0), np.expand_dims(X_test[index,1], axis=0)])\n",
        "if pred[0]>= tr_value:\n",
        "  print(\"different\")\n",
        "else:\n",
        "  print(\"same\")\n",
        "print(pred)\n",
        "f, axarr = plt.subplots(1,2)\n",
        "axarr[0].imshow(X_test[index,0,:,:,0], cmap='gray')\n",
        "axarr[1].imshow(X_test[index,1,:,:,0], cmap='gray')\n",
        "plt.show()"
      ],
      "execution_count": 94,
      "outputs": [
        {
          "output_type": "stream",
          "text": [
            "different\n",
            "[[2.022332]]\n"
          ],
          "name": "stdout"
        },
        {
          "output_type": "display_data",
          "data": {
            "image/png": "[encoded data removed]",
            "text/plain": [
              "<Figure size 432x288 with 2 Axes>"
            ]
          },
          "metadata": {
            "tags": []
          }
        }
      ]
    },
    {
      "cell_type": "code",
      "metadata": {
        "id": "VwZqlMOS50Pd",
        "colab_type": "code",
        "colab": {}
      },
      "source": [
        "#new_model = Model(model.input[0], [model.get_output_at(0)])\n",
        "base_net.predict([np.expand_dims(X_test[index,0], axis=0)]).shape"
      ],
      "execution_count": 0,
      "outputs": []
    },
    {
      "cell_type": "code",
      "metadata": {
        "id": "tynWO1S3iosl",
        "colab_type": "code",
        "colab": {}
      },
      "source": [
        "K.clear_session()\n",
        "import tensorflow as tf\n",
        "tf.reset_default_graph()"
      ],
      "execution_count": 0,
      "outputs": []
    }
  ]
}